print("Hello Github!")
# This is going to be used mainly for the Capstone Project for Applied Data Science with IBM and Coursera
import pandas as pd
import numpy as numpy
print('Hello Capstone Project')

